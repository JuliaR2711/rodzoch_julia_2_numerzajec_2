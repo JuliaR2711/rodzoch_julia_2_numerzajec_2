{
  "nbformat": 4,
  "nbformat_minor": 0,
  "metadata": {
    "colab": {
      "provenance": [],
      "include_colab_link": true
    },
    "kernelspec": {
      "name": "python3",
      "display_name": "Python 3"
    },
    "language_info": {
      "name": "python"
    }
  },
  "cells": [
    {
      "cell_type": "markdown",
      "metadata": {
        "id": "view-in-github",
        "colab_type": "text"
      },
      "source": [
        "<a href=\"https://colab.research.google.com/github/JuliaR2711/rodzoch_julia_2_numerzajec_2/blob/main/rodzoch_julia_2_numerzajec_9.ipynb\" target=\"_parent\"><img src=\"https://colab.research.google.com/assets/colab-badge.svg\" alt=\"Open In Colab\"/></a>"
      ]
    },
    {
      "cell_type": "code",
      "source": [
        "import re\n"
      ],
      "metadata": {
        "id": "4pogtuF5zsW_"
      },
      "execution_count": null,
      "outputs": []
    },
    {
      "cell_type": "code",
      "execution_count": null,
      "metadata": {
        "id": "-G29ukTOzKz-"
      },
      "outputs": [],
      "source": [
        "tekst1 = \"Imie i nazwisko: Hubar, Patryk. Data urodzenia: 7 czerwca 1993. Numer telefonu: 123-456-789\"\n",
        "tekst2 = \"Imie i nazwisko: Mickiewicz, Adam. Data urodzenia: 22 stycznia 1877. Numer telefonu: 789456123\""
      ]
    },
    {
      "cell_type": "code",
      "source": [
        "wzor=\"(\\w+,\\s\\w+)\"\n",
        "\n",
        "x1 = re.search(wzor, tekst1)\n",
        "x2 = re.search(wzor, tekst2)\n",
        "\n",
        "imie_nazwisko = [x1.group(), x2.group()]\n",
        "\n",
        "print(\"Imiona i nazwiska:\")\n",
        "print(imie_nazwisko)\n"
      ],
      "metadata": {
        "colab": {
          "base_uri": "https://localhost:8080/"
        },
        "id": "4LDzR7MXzZ3d",
        "outputId": "b0367b51-f325-4d17-f6bb-47dabd365dfe"
      },
      "execution_count": null,
      "outputs": [
        {
          "output_type": "stream",
          "name": "stdout",
          "text": [
            "Imiona i nazwiska:\n",
            "['Hubar, Patryk', 'Mickiewicz, Adam']\n"
          ]
        }
      ]
    },
    {
      "cell_type": "code",
      "source": [
        "wzor=\"\\d{1,2}\\s\\w+\\s\\d{4}\"\n",
        "\n",
        "x1 = re.search(wzor, tekst1)\n",
        "x2 = re.search(wzor, tekst2)\n",
        "\n",
        "\n",
        "data_urodzenia = [x1.group(), x2.group()]\n",
        "\n",
        "print(\"Daty urodzenia:\")\n",
        "print(data_urodzenia)"
      ],
      "metadata": {
        "colab": {
          "base_uri": "https://localhost:8080/"
        },
        "id": "Cv13I2_Wzidq",
        "outputId": "b1774859-5265-49df-9225-f3abec9edbb2"
      },
      "execution_count": null,
      "outputs": [
        {
          "output_type": "stream",
          "name": "stdout",
          "text": [
            "Daty urodzenia:\n",
            "['7 czerwca 1993', '22 stycznia 1877']\n"
          ]
        }
      ]
    },
    {
      "cell_type": "code",
      "source": [
        "wzor=\"\\d{9}|(\\d{3}-\\d{3}-\\d{3})\"\n",
        "\n",
        "x1 = re.search(wzor, tekst1)\n",
        "x2 = re.search(wzor, tekst2)\n",
        "\n",
        "numer_telefonu = [x1.group(), x2.group()]\n",
        "\n",
        "print(\"Numery telefonu:\")\n",
        "print(numer_telefonu)"
      ],
      "metadata": {
        "colab": {
          "base_uri": "https://localhost:8080/"
        },
        "id": "xVJKLhejzkve",
        "outputId": "ce26c852-dfd4-49c2-e2ed-b21485e2ee60"
      },
      "execution_count": null,
      "outputs": [
        {
          "output_type": "stream",
          "name": "stdout",
          "text": [
            "Numery telefonu:\n",
            "['123-456-789', '789456123']\n"
          ]
        }
      ]
    }
  ]
}