{
  "nbformat": 4,
  "nbformat_minor": 0,
  "metadata": {
    "colab": {
      "provenance": [],
      "authorship_tag": "ABX9TyP7lGpNBVKmzdocnMPLVG1g",
      "include_colab_link": true
    },
    "kernelspec": {
      "name": "python3",
      "display_name": "Python 3"
    },
    "language_info": {
      "name": "python"
    }
  },
  "cells": [
    {
      "cell_type": "markdown",
      "metadata": {
        "id": "view-in-github",
        "colab_type": "text"
      },
      "source": [
        "<a href=\"https://colab.research.google.com/github/JuliaR2711/rodzoch_julia_2_numerzajec_2/blob/main/rodzoch_julia_2_numerzajec_3.ipynb\" target=\"_parent\"><img src=\"https://colab.research.google.com/assets/colab-badge.svg\" alt=\"Open In Colab\"/></a>"
      ]
    },
    {
      "cell_type": "code",
      "source": [
        "#Zadanie 1"
      ],
      "metadata": {
        "id": "zuIlb8tCVYko"
      },
      "execution_count": null,
      "outputs": []
    },
    {
      "cell_type": "code",
      "source": [
        "name = input (\"Podaj imie\").strip()\n",
        "if not name.isalpha():\n",
        "        print(\"Imię powinno składać się tylko z liter.\")"
      ],
      "metadata": {
        "colab": {
          "base_uri": "https://localhost:8080/"
        },
        "id": "fO0_Cu4LEycu",
        "outputId": "7b6a84ca-7a2a-4775-c85b-209f1ddc8b6d"
      },
      "execution_count": null,
      "outputs": [
        {
          "name": "stdout",
          "output_type": "stream",
          "text": [
            "Podaj imie Julia\n"
          ]
        }
      ]
    },
    {
      "cell_type": "code",
      "source": [
        "surname = input (\"Podaj nazwisko\").strip()\n",
        "if not surname.isalpha():\n",
        "        print(\"Imię powinno składać się tylko z liter.\")"
      ],
      "metadata": {
        "colab": {
          "base_uri": "https://localhost:8080/"
        },
        "id": "mAV4eoPTE219",
        "outputId": "b9adfe80-b6ab-4af1-d303-5fe55ccd3205"
      },
      "execution_count": null,
      "outputs": [
        {
          "name": "stdout",
          "output_type": "stream",
          "text": [
            "Podaj nazwisko  Rodzoch\n"
          ]
        }
      ]
    },
    {
      "cell_type": "code",
      "source": [
        "age = input(\"Podaj wiek\").strip()\n",
        "\n",
        "if age.isdigit():  # Sprawdza, czy age składa się tylko z cyfr\n",
        "    age_int = int(age)\n",
        "    if age_int > 0:  # Upewniamy się, że wiek jest większy od zera\n",
        "        print(\"Brawo, super dane!\")\n",
        "    else:\n",
        "        print(\"Podana wartość nie jest poprawnym wiekiem.\")\n",
        "else:\n",
        "    print(\"Podana wartość nie jest liczbą. Proszę wprowadzić tylko cyfry.\")\n"
      ],
      "metadata": {
        "colab": {
          "base_uri": "https://localhost:8080/"
        },
        "id": "7xILAvomE8LY",
        "outputId": "b6b5d042-3c3d-4084-82f0-bda43d7a8e09"
      },
      "execution_count": null,
      "outputs": [
        {
          "output_type": "stream",
          "name": "stdout",
          "text": [
            "Podaj wiek23 lata\n",
            "Podana wartość nie jest liczbą. Proszę wprowadzić tylko cyfry.\n"
          ]
        }
      ]
    },
    {
      "cell_type": "code",
      "source": [
        "password = input(\"Podaj haslo\")\n",
        "re_enter_password = input(\"Podaj ponownie haslo\")\n",
        "\n",
        "if password == re_enter_password:\n",
        "      print(\"Haslo poprawne\")\n",
        "else:\n",
        "      print(\"Hasla nie sa takie same, spróbuj ponownie\")\n"
      ],
      "metadata": {
        "colab": {
          "base_uri": "https://localhost:8080/"
        },
        "id": "mtgIijB5FiGj",
        "outputId": "9b7ed186-6f74-4501-edc0-52c605c64b2c"
      },
      "execution_count": null,
      "outputs": [
        {
          "output_type": "stream",
          "name": "stdout",
          "text": [
            "Podaj haslo Krowka123\n",
            "Podaj ponownie haslo Krowka12 3\n",
            "Hasla nie sa takie same, spróbuj ponownie\n"
          ]
        }
      ]
    },
    {
      "cell_type": "code",
      "source": [
        "cleaned = ''.join(filter(str.isdigit, phone))\n",
        "\n",
        "\n",
        "phone_input = input(\"Podaj swój numer telefonu\")\n",
        "phone = phone_input.strip()\n",
        "\n",
        "formatted_phone = ''.join(filter(str.isdigit, phone))\n",
        "\n",
        "if formatted_phone.isdigit() and len(formatted_phone) == 9:\n",
        "        print(\"Numer telefonu poprawny, zapisano jako:\", formatted_phone)\n",
        "\n",
        "elif formatted_phone.isdigit() and len(formatted_phone) < 9:\n",
        "        print(\"Błędny numer telefonu! Proszę wprowadzić co najmniej 9 cyfr.\")\n",
        "\n",
        "elif formatted_phone.isdigit() and len(formatted_phone) > 9:\n",
        "        print(\"Błędny numer telefonu! Proszę wprowadzić dokładnie 9 cyfr.\")\n",
        "\n",
        "else:\n",
        "        print(\"Błędny numer telefonu! Proszę wprowadzić numer w poprawnym formacie.\")\n",
        "\n"
      ],
      "metadata": {
        "colab": {
          "base_uri": "https://localhost:8080/"
        },
        "id": "tbACPE-IPpgR",
        "outputId": "7d6c96e6-11e5-4454-8ea2-d778a0d65567"
      },
      "execution_count": null,
      "outputs": [
        {
          "output_type": "stream",
          "name": "stdout",
          "text": [
            "Podaj swój numer telefonu 123 123 123\n",
            "Numer telefonu poprawny, zapisano jako: 123123123\n"
          ]
        }
      ]
    },
    {
      "cell_type": "code",
      "source": [
        "    print(\"\\nDane użytkownika:\")\n",
        "    print(\"Imię:\", name)\n",
        "    print(\"Nazwisko:\", surname)\n",
        "    print(\"Wiek:\", age)\n",
        "    print(\"Hasło:\", password)\n",
        "    print(\"Ponowne hasło\", re_enter_password)\n",
        "    print(\"Numer telefonu:\", formatted_phone)"
      ],
      "metadata": {
        "colab": {
          "base_uri": "https://localhost:8080/"
        },
        "id": "HoUv5DbIQ-78",
        "outputId": "9f4ed63d-a978-4a95-a366-3a4b31da8f34"
      },
      "execution_count": null,
      "outputs": [
        {
          "output_type": "stream",
          "name": "stdout",
          "text": [
            "\n",
            "Dane użytkownika:\n",
            "Imię: Julia\n",
            "Nazwisko: Rodzoch\n",
            "Wiek: 23 lata\n",
            "Hasło:  Krowka123\n",
            "Ponowne hasło  Krowka12 3\n",
            "Numer telefonu: 123123123\n"
          ]
        }
      ]
    },
    {
      "cell_type": "code",
      "source": [
        "#Zadanie 2"
      ],
      "metadata": {
        "id": "iwpfBIAUVaVw"
      },
      "execution_count": null,
      "outputs": []
    },
    {
      "cell_type": "code",
      "source": [
        "#Dodawanie\n",
        "def add(x, y):\n",
        "    return x + y\n",
        "\n",
        "#Odejmowanie\n",
        "def subtract(x, y):\n",
        "    return x - y\n",
        "\n",
        "#Mnożenie\n",
        "def multiply(x, y):\n",
        "    return x * y\n",
        "\n",
        "#Dzielenie\n",
        "def divide(x, y):\n",
        "    return x / y\n",
        "\n",
        "\n",
        "print(\"Wybierz operacje\")\n",
        "print(\"1.Dodawanie\")\n",
        "print(\"2.Odejmowanie\")\n",
        "print(\"3.Mnożenie\")\n",
        "print(\"4.Dzielenie\")\n",
        "\n",
        "while True:\n",
        "    # Wybierz działanie\n",
        "    choice = input(\"Wybierz(1/2/3/4): \")\n",
        "\n",
        "    # sprawdź podane wybory\n",
        "    if choice in ('1', '2', '3', '4'):\n",
        "        try:\n",
        "            num1 = float(input(\"Wprowadź pierwszy numer \"))\n",
        "            num2 = float(input(\"Wprowadź drugi numer \"))\n",
        "        except ValueError:\n",
        "            print(\"Niewłaściwy numer. Proszę sprobować ponownie\")\n",
        "            continue\n",
        "\n",
        "        if choice == '1':\n",
        "            print(num1, \"+\", num2, \"=\", add(num1, num2))\n",
        "\n",
        "        elif choice == '2':\n",
        "            print(num1, \"-\", num2, \"=\", subtract(num1, num2))\n",
        "\n",
        "        elif choice == '3':\n",
        "            print(num1, \"*\", num2, \"=\", multiply(num1, num2))\n",
        "\n",
        "        elif choice == '4':\n",
        "            print(num1, \"/\", num2, \"=\", divide(num1, num2))\n",
        "\n",
        "        # break the while loop if answer is no\n",
        "        next_calculation = input(\"Chcesz spróbować jeszcze raz? (yes/no): \")\n",
        "        if next_calculation == \"no\":\n",
        "          break\n",
        "    else:\n",
        "        print(\"Invalid Input\")"
      ],
      "metadata": {
        "colab": {
          "base_uri": "https://localhost:8080/"
        },
        "id": "wxw3-otEkFF-",
        "outputId": "eb0ad4d0-499a-4dfe-bae3-bc8edc51bd70"
      },
      "execution_count": null,
      "outputs": [
        {
          "name": "stdout",
          "output_type": "stream",
          "text": [
            "Wybierz operacje\n",
            "1.Dodawanie\n",
            "2.Odejmowanie\n",
            "3.Mnożenie\n",
            "4.Dzielenie\n",
            "Wybierz(1/2/3/4): 3\n",
            "Wprowadź pierwszy numer 5\n",
            "Wprowadź drugi numer 8\n",
            "5.0 * 8.0 = 40.0\n",
            "Chcesz spróbować jeszcze raz? (yes/no): no\n"
          ]
        }
      ]
    }
  ]
}