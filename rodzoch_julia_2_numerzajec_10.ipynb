{
  "nbformat": 4,
  "nbformat_minor": 0,
  "metadata": {
    "colab": {
      "provenance": [],
      "authorship_tag": "ABX9TyNOjKngIR0PryfsCI7cqsBi",
      "include_colab_link": true
    },
    "kernelspec": {
      "name": "python3",
      "display_name": "Python 3"
    },
    "language_info": {
      "name": "python"
    }
  },
  "cells": [
    {
      "cell_type": "markdown",
      "metadata": {
        "id": "view-in-github",
        "colab_type": "text"
      },
      "source": [
        "<a href=\"https://colab.research.google.com/github/JuliaR2711/rodzoch_julia_2_numerzajec_2/blob/main/rodzoch_julia_2_numerzajec_10.ipynb\" target=\"_parent\"><img src=\"https://colab.research.google.com/assets/colab-badge.svg\" alt=\"Open In Colab\"/></a>"
      ]
    },
    {
      "cell_type": "code",
      "execution_count": null,
      "metadata": {
        "id": "c6f4WYSRHCxM"
      },
      "outputs": [],
      "source": [
        "!python -m spacy download pl_core_news_lg"
      ]
    },
    {
      "cell_type": "code",
      "source": [
        "import spacy\n",
        "nlp = spacy.load(\"pl_core_news_lg\")"
      ],
      "metadata": {
        "id": "h26yAHEfHe_w"
      },
      "execution_count": 27,
      "outputs": []
    },
    {
      "cell_type": "code",
      "source": [
        "with open (\"/content/obama.txt\", mode = \"r\", encoding = \"utf-8\") as plik:\n",
        "  obama = plik.read()"
      ],
      "metadata": {
        "id": "qljwbGYVICMA"
      },
      "execution_count": 47,
      "outputs": []
    },
    {
      "cell_type": "code",
      "source": [
        "text = obama"
      ],
      "metadata": {
        "id": "-GwpI323IthG"
      },
      "execution_count": 46,
      "outputs": []
    },
    {
      "cell_type": "code",
      "source": [
        "obama"
      ],
      "metadata": {
        "colab": {
          "base_uri": "https://localhost:8080/",
          "height": 178
        },
        "id": "hmAZiLFyIOoJ",
        "outputId": "aa734a2f-eeb5-49bf-918f-0a8fb57443ad"
      },
      "execution_count": 45,
      "outputs": [
        {
          "output_type": "execute_result",
          "data": {
            "text/plain": [
              "'Młodość[edytuj\\xa0|\\xa0edytuj kod]\\nUrodził się 4 sierpnia 1961 w Kapi’olani Medical Center for Women & Children w\\xa0Honolulu. Jego ojciec,\\xa0Barack Obama Sr., wywodzący się z afrykańskiego ludu\\xa0Luo, urodził się w kenijskiej\\xa0prowincji Nyanza, a matka,\\xa0Ann Dunham, mająca korzenie głównie angielskie, z domieszką niemieckich, szwajcarskich, szkockich, walijskich i irlandzkich – w\\xa0Wichicie\\xa0w stanie\\xa0Kansas[9][10]. Jego rodzice poznali się w 1960 na\\xa0Uniwersytecie Hawajskim\\xa0w\\xa0Manoa\\ufeff, gdzie Barack senior studiował dzięki stypendium dla zagranicznych studentów[9][11], a następnie wzięli ślub 2 lutego 1961, jednak\\xa0rozeszli się, gdy ich syn miał dwa lata, a w 1964 doszło do ich\\xa0rozwodu[12]. Jego ojciec kontynuował studia\\xa0doktoranckie\\xa0na\\xa0Uniwersytecie Harvarda, po czym wrócił do Kenii, gdzie w 1982 zmarł w wypadku samochodowym[13]. Z kolei matka Obamy w 1966 wyszła powtórnie za mąż, tym razem za Lolo Soetoro z\\xa0Indonezji, po czym w 1967 wraz z rodziną przeprowadziła się do\\xa0Dżakarty[14]. Para miała jedną córkę, Mayę (oprócz niej Obama ma też rodzeństwo ze strony ojca – dwie siostry i pięciu braci)[15]. Rozwiedli się w latach 70., a w 1987 Soetoro zmarł z powodu choroby\\xa0wątroby[16].\\nObama w dzieciństwie i okresie dorastania nazywany był „Barry”[17][18]. Od 6. do 10. roku życia mieszkał z matką w Dżakarcie i chodził do tamtejszej szkoły, w której lekcje prowadzone były w\\xa0języku indonezyjskim[19][20]\\xa0(według słów ambasadora indonezyjskiego w USA Obama wciąż dość dobrze mówi w tym języku[21]). W 1971 wrócił do\\xa0Honolulu, gdzie zamieszkał z dziadkami ze strony matki, Madelyn i Stanleyem Dunhamami, oraz uczęszczał do prywatnej\\xa0Punahou School\\ufeff[14], którą ukończył w 1979. Według słów Obamy przyjęcie go do tej placówki dla jego dziadków „oznajmiało początek czegoś wielkiego, podniesienie statusu rodziny”[22].\\nAnn Dunham wróciła na Hawaje w 1972, a w 1977 znów wyjechała do Indonezji, gdzie prowadziła\\xa0antropologiczne\\xa0badania terenowe. W 1994 powróciła na Hawaje, a w następnym roku zmarła na\\xa0raka jajnika, kilka miesięcy po wydaniu przez Obamę autobiograficznej książki\\xa0Dreams from My Father\\ufeff[23]\\xa0(pol.\\xa0Odziedziczone marzenia: Spadek po moim ojcu). Wiedzę o ojcu, którego później widział tylko raz, podczas krótkiej wizyty w 1971, czerpał głównie z rodzinnych opowieści i\\xa0fotografii[13]. O wczesnym dzieciństwie pisał: „To, że mój ojciec nie przypominał ludzi wokół mnie, że był czarny jak smoła, a moja matka biała jak mleko, było ledwo co rejestrowane przez mój umysł”[24]. W sierpniu 2006 wraz z żoną i córkami wspólnie odwiedził miejsce narodzin ojca, wioskę nieopodal\\xa0Kisumu\\xa0w zachodniej, rolniczej części Kenii[25][26].\\nPodczas jednego ze spotkań ze studentami w 2007 przyznał się, że jako nastolatek w średniej szkole miał okres słabości, w którym spożywał\\xa0alkohol, palił\\xa0marihuanę\\xa0i próbował\\xa0kokainy, aby „wypchnąć z umysłu pytania o to, kim jest”. Sam krytycznie odnosi się do tego okresu, twierdząc, że była to strata czasu[27]. Po szkole średniej przeprowadził się do\\xa0Los Angeles, gdzie przez dwa lata studiował na\\xa0Occidental College\\ufeff[28][29], po czym przeniósł się na\\xa0Columbia University\\xa0w\\xa0Nowym Jorku\\xa0na kierunek\\xa0politologia\\xa0ze specjalizacją\\xa0stosunki międzynarodowe[30]. Stopień\\xa0licencjata\\xa0(ang.\\xa0bachelor degree) zdobył w 1983. Następnie pracował w\\xa0Business International Corporation\\ufeff\\xa0i\\xa0New York Public Interest Research Group\\ufeff, po czym przeniósł się do\\xa0Chicago, gdzie podjął pracę jako działacz społeczny[31]. Jako dyrektor projektu rozwijających się społeczności pracował z mało zarabiającymi mieszkańcami\\xa0Roseland\\xa0w\\xa0Chicago\\xa0i zajmował się budownictwem społecznym w\\xa0Altgeld Gardens\\ufeff[32][33]. W 1988 rozpoczął studia w\\xa0Harvard Law School[34][35], w 1990 został wybrany na prezesa „Harvard Law Review”, prestiżowego miesięcznika prawniczego redagowanego przez niezależną grupę studentów, jako pierwszy\\xa0Afroamerykanin\\xa0w jego 103-letniej historii[36][37], a w rok później uzyskał\\xa0magistra\\xa0praw\\xa0(łac.\\xa0Juris Doctor)[38]\\xa0magna cum laude[39]. Jeszcze w trakcie studiów w 1988 odbył wakacyjne praktyki w kancelarii prawniczej Sidley & Austin[40].\\nPowróciwszy do Chicago, działał na rzecz\\xa0rejestracji głosujących[39]. Jako prawnik w kancelarii Miner, Barnhill & Galland w latach 1993–1996 reprezentował działaczy społecznych oraz wnoszących sprawy o\\xa0dyskryminację\\xa0i naruszenie\\xa0Voting Rights Act\\ufeff[41]. Poza tym prowadził zajęcia na temat rasizmu oraz wykładał\\xa0prawo konstytucyjne\\xa0na\\xa0University of Chicago Law School\\xa0od 1993 do 2004, kiedy to został wybrany do\\xa0Senatu[42][43].\\n'"
            ],
            "application/vnd.google.colaboratory.intrinsic+json": {
              "type": "string"
            }
          },
          "metadata": {},
          "execution_count": 45
        }
      ]
    },
    {
      "cell_type": "code",
      "source": [
        "#Zadanie 1\n",
        "\n",
        "print(obama[:1000])"
      ],
      "metadata": {
        "colab": {
          "base_uri": "https://localhost:8080/"
        },
        "id": "xHxVlqZXITTO",
        "outputId": "357734d7-87b9-40bd-d07f-950127859677"
      },
      "execution_count": 48,
      "outputs": [
        {
          "output_type": "stream",
          "name": "stdout",
          "text": [
            "Młodość[edytuj | edytuj kod]\n",
            "Urodził się 4 sierpnia 1961 w Kapi’olani Medical Center for Women & Children w Honolulu. Jego ojciec, Barack Obama Sr., wywodzący się z afrykańskiego ludu Luo, urodził się w kenijskiej prowincji Nyanza, a matka, Ann Dunham, mająca korzenie głównie angielskie, z domieszką niemieckich, szwajcarskich, szkockich, walijskich i irlandzkich – w Wichicie w stanie Kansas[9][10]. Jego rodzice poznali się w 1960 na Uniwersytecie Hawajskim w Manoa﻿, gdzie Barack senior studiował dzięki stypendium dla zagranicznych studentów[9][11], a następnie wzięli ślub 2 lutego 1961, jednak rozeszli się, gdy ich syn miał dwa lata, a w 1964 doszło do ich rozwodu[12]. Jego ojciec kontynuował studia doktoranckie na Uniwersytecie Harvarda, po czym wrócił do Kenii, gdzie w 1982 zmarł w wypadku samochodowym[13]. Z kolei matka Obamy w 1966 wyszła powtórnie za mąż, tym razem za Lolo Soetoro z Indonezji, po czym w 1967 wraz z rodziną przeprowadziła się do Dżakarty[14]. Para miała jedną córkę\n"
          ]
        }
      ]
    },
    {
      "cell_type": "code",
      "source": [
        "#Zdanie 2\n",
        "\n",
        "doc = nlp(text[:1000])\n",
        "\n",
        "nlp.pipeline"
      ],
      "metadata": {
        "colab": {
          "base_uri": "https://localhost:8080/"
        },
        "id": "EROq878_InEK",
        "outputId": "dffd4ce1-1ebe-43d3-a9d8-c4ffa43070b4"
      },
      "execution_count": 49,
      "outputs": [
        {
          "output_type": "execute_result",
          "data": {
            "text/plain": [
              "[('tok2vec', <spacy.pipeline.tok2vec.Tok2Vec at 0x7e94d4291cc0>),\n",
              " ('morphologizer',\n",
              "  <spacy.pipeline.morphologizer.Morphologizer at 0x7e94fee89480>),\n",
              " ('parser', <spacy.pipeline.dep_parser.DependencyParser at 0x7e94d4422180>),\n",
              " ('lemmatizer',\n",
              "  <spacy.pipeline.edit_tree_lemmatizer.EditTreeLemmatizer at 0x7e94fee88f40>),\n",
              " ('tagger', <spacy.pipeline.tagger.Tagger at 0x7e94d43aeec0>),\n",
              " ('attribute_ruler',\n",
              "  <spacy.pipeline.attributeruler.AttributeRuler at 0x7e94d442cfc0>),\n",
              " ('ner', <spacy.pipeline.ner.EntityRecognizer at 0x7e94d4421e70>)]"
            ]
          },
          "metadata": {},
          "execution_count": 49
        }
      ]
    },
    {
      "cell_type": "code",
      "source": [
        "for token in doc:\n",
        "  print(token.text, token.lemma_, token.pos_, token.tag_, token.shape_, token.is_stop)"
      ],
      "metadata": {
        "colab": {
          "base_uri": "https://localhost:8080/"
        },
        "id": "oi6jPa8hIzqK",
        "outputId": "43750ad3-8fcf-42a0-c30f-161bcfbb8d8b"
      },
      "execution_count": 50,
      "outputs": [
        {
          "output_type": "stream",
          "name": "stdout",
          "text": [
            "Młodość młodość NOUN SUBST Xxxxx False\n",
            "[ [ PUNCT SUBST [ False\n",
            "edytuj edytujić VERB SUBST xxxx False\n",
            "    SPACE _SP   False\n",
            "| | PUNCT SUBST | False\n",
            "    SPACE _SP   False\n",
            "edytuj edytujyć VERB IMPT xxxx False\n",
            "kod kod NOUN SUBST xxx False\n",
            "] ] PUNCT SUBST ] False\n",
            "\n",
            " \n",
            " SPACE _SP \n",
            " False\n",
            "Urodził urodzić VERB PRAET Xxxxx False\n",
            "się się PRON QUB xxx True\n",
            "4 4 ADJ ADJ d False\n",
            "sierpnia sierpień NOUN SUBST xxxx False\n",
            "1961 1961 ADJ ADJ dddd False\n",
            "w w ADP PREP x True\n",
            "Kapi Kapi PROPN SUBST Xxxx False\n",
            "’ ’ PUNCT SUBST ’ False\n",
            "olani olać ADJ PPAS xxxx False\n",
            "Medical Medical PROPN SUBST Xxxxx False\n",
            "Center Center PROPN SUBST Xxxxx False\n",
            "for for X SUBST xxx False\n",
            "Women Women PROPN XXX Xxxxx False\n",
            "& & PUNCT INTERP & False\n",
            "Children Children PROPN SUBST Xxxxx False\n",
            "w w ADP PREP x True\n",
            "    SPACE _SP   False\n",
            "Honolulu Honolulu PROPN SUBST Xxxxx False\n",
            ". . PUNCT INTERP . False\n",
            "Jego on PRON PPRON3 Xxxx True\n",
            "ojciec ojciec NOUN SUBST xxxx False\n",
            ", , PUNCT INTERP , False\n",
            "    SPACE _SP   False\n",
            "Barack Barack PROPN SUBST Xxxxx False\n",
            "Obama Obama PROPN SUBST Xxxxx False\n",
            "Sr Sr X SUBST Xx False\n",
            ". . PUNCT SUBST . False\n",
            ", , PUNCT INTERP , False\n",
            "wywodzący wywodzący ADJ PACT xxxx False\n",
            "się się PRON QUB xxx True\n",
            "z z ADP PREP x True\n",
            "afrykańskiego afrykańskiy ADJ ADJ xxxx False\n",
            "ludu lud NOUN SUBST xxxx False\n",
            "    SPACE _SP   False\n",
            "Luo Luo PROPN SUBST Xxx False\n",
            ", , PUNCT INTERP , False\n",
            "urodził urodzić VERB PRAET xxxx False\n",
            "się się PRON QUB xxx True\n",
            "w w ADP PREP x True\n",
            "kenijskiej kenijski ADJ ADJ xxxx False\n",
            "    SPACE _SP   False\n",
            "prowincji prowincja NOUN SUBST xxxx False\n",
            "Nyanza Nyanza PROPN SUBST Xxxxx False\n",
            ", , PUNCT INTERP , False\n",
            "a a CCONJ CONJ x True\n",
            "matka matka NOUN SUBST xxxx False\n",
            ", , PUNCT SUBST , False\n",
            "    SPACE _SP   False\n",
            "Ann Ann PROPN SUBST Xxx False\n",
            "Dunham Dunham PROPN SUBST Xxxxx False\n",
            ", , PUNCT INTERP , False\n",
            "mająca mająca ADJ PACT xxxx False\n",
            "korzenie korzeć NOUN SUBST xxxx False\n",
            "głównie głównie PART QUB xxxx False\n",
            "angielskie angielski ADJ ADJ xxxx False\n",
            ", , PUNCT INTERP , False\n",
            "z z ADP PREP x True\n",
            "domieszką domieszka NOUN SUBST xxxx False\n",
            "niemieckich niemiecki ADJ ADJ xxxx False\n",
            ", , PUNCT INTERP , False\n",
            "szwajcarskich szwajcarski ADJ ADJ xxxx False\n",
            ", , PUNCT INTERP , False\n",
            "szkockich szkocki ADJ ADJ xxxx False\n",
            ", , PUNCT INTERP , False\n",
            "walijskich walijski ADJ ADJ xxxx False\n",
            "i i CCONJ CONJ x True\n",
            "irlandzkich irlandzki ADJ ADJ xxxx False\n",
            "– – PUNCT INTERP – False\n",
            "w w ADP PREP x True\n",
            "    SPACE _SP   False\n",
            "Wichicie Wichicie VERB GER Xxxxx False\n",
            "    SPACE _SP   False\n",
            "w w ADP PREP x True\n",
            "stanie stan NOUN SUBST xxxx False\n",
            "    SPACE _SP   False\n",
            "Kansas[9][10 Kansas[9][10 PROPN SUBST Xxxxx[d][dd False\n",
            "] ] PUNCT SUBST ] False\n",
            ". . PUNCT INTERP . False\n",
            "Jego on PRON PPRON3 Xxxx True\n",
            "rodzice rodzic NOUN SUBST xxxx False\n",
            "poznali poznać VERB PRAET xxxx False\n",
            "się się PRON QUB xxx True\n",
            "w w ADP PREP x True\n",
            "1960 1960 ADJ ADJ dddd False\n",
            "na na ADP PREP xx True\n",
            "    SPACE _SP   False\n",
            "Uniwersytecie Uniwersytecie NOUN SUBST Xxxxx False\n",
            "Hawajskim Hawajski ADJ ADJ Xxxxx False\n",
            "    SPACE _SP   False\n",
            "w w ADP PREP x True\n",
            "    SPACE _SP   False\n",
            "Manoa﻿ manoa﻿ PROPN SUBST Xxxxx﻿ False\n",
            ", , PUNCT INTERP , False\n",
            "gdzie gdzie ADV ADV xxxx True\n",
            "Barack Barack PROPN SUBST Xxxxx False\n",
            "senior senior NOUN SUBST xxxx False\n",
            "studiował studiować VERB PRAET xxxx False\n",
            "dzięki dzięki ADP PREP xxxx False\n",
            "stypendium stypendium NOUN SUBST xxxx False\n",
            "dla dla ADP PREP xxx True\n",
            "zagranicznych zagraniczny ADJ ADJ xxxx False\n",
            "studentów[9][11 studentów[9][11 X SUBST xxxx[d][dd False\n",
            "] ] PUNCT SUBST ] False\n",
            ", , PUNCT INTERP , False\n",
            "a a CCONJ CONJ x True\n",
            "następnie następnie ADV ADV xxxx False\n",
            "wzięli wziąć VERB PRAET xxxx False\n",
            "ślub ślub NOUN SUBST xxxx False\n",
            "2 2 ADJ ADJ d False\n",
            "lutego luty NOUN SUBST xxxx False\n",
            "1961 1961 ADJ ADJ dddd False\n",
            ", , PUNCT INTERP , False\n",
            "jednak jednak CCONJ CONJ xxxx True\n",
            "    SPACE _SP   False\n",
            "rozeszli rozejść VERB PRAET xxxx False\n",
            "się się PRON QUB xxx True\n",
            ", , PUNCT INTERP , False\n",
            "gdy gdy ADV ADV xxx True\n",
            "ich on PRON PPRON3 xxx True\n",
            "syn syn NOUN SUBST xxx False\n",
            "miał mieć VERB PRAET xxxx True\n",
            "dwa dwa NUM NUM xxx True\n",
            "lata rok NOUN SUBST xxxx False\n",
            ", , PUNCT INTERP , False\n",
            "a a CCONJ CONJ x True\n",
            "w w ADP PREP x True\n",
            "1964 1964 ADJ ADJ dddd False\n",
            "doszło dojść VERB PRAET xxxx False\n",
            "do do ADP PREP xx True\n",
            "ich on PRON PPRON3 xxx True\n",
            "    SPACE _SP   False\n",
            "rozwodu[12 rozwodu[12 NOUN SUBST xxxx[dd False\n",
            "] ] PUNCT SUBST ] False\n",
            ". . PUNCT INTERP . False\n",
            "Jego on PRON PPRON3 Xxxx True\n",
            "ojciec ojciec NOUN SUBST xxxx False\n",
            "kontynuował kontynuować VERB PRAET xxxx False\n",
            "studia studia NOUN SUBST xxxx False\n",
            "    SPACE _SP   False\n",
            "doktoranckie doktorancki ADJ ADJ xxxx False\n",
            "    SPACE _SP   False\n",
            "na na ADP PREP xx True\n",
            "    SPACE _SP   False\n",
            "Uniwersytecie Uniwersytecie NOUN SUBST Xxxxx False\n",
            "Harvarda Harvard PROPN ADJ Xxxxx False\n",
            ", , PUNCT INTERP , False\n",
            "po po ADP PREP xx True\n",
            "czym co PRON SUBST xxxx False\n",
            "wrócił wrócić VERB PRAET xxxx False\n",
            "do do ADP PREP xx True\n",
            "Kenii Kenia PROPN SUBST Xxxxx False\n",
            ", , PUNCT INTERP , False\n",
            "gdzie gdzie ADV ADV xxxx True\n",
            "w w ADP PREP x True\n",
            "1982 1982 ADJ ADJ dddd False\n",
            "zmarł zemrzeć VERB PRAET xxxx False\n",
            "w w ADP PREP x True\n",
            "wypadku wypadek NOUN SUBST xxxx False\n",
            "samochodowym[13 samochodowym[13 NOUN SUBST xxxx[dd False\n",
            "] ] PUNCT SUBST ] False\n",
            ". . PUNCT INTERP . False\n",
            "Z z ADP PREP X True\n",
            "kolei kolej NOUN SUBST xxxx False\n",
            "matka matka NOUN SUBST xxxx False\n",
            "Obamy Obamy PROPN SUBST Xxxxx False\n",
            "w w ADP PREP x True\n",
            "1966 1966 ADJ ADJ dddd False\n",
            "wyszła wyjść VERB PRAET xxxx False\n",
            "powtórnie powtórnie ADV ADV xxxx False\n",
            "za za ADP PREP xx True\n",
            "mąż mąż NOUN SUBST xxx False\n",
            ", , PUNCT INTERP , False\n",
            "tym ten DET ADJ xxx True\n",
            "razem raz NOUN SUBST xxxx False\n",
            "za za ADP PREP xx True\n",
            "Lolo Lolo PROPN SUBST Xxxx False\n",
            "Soetoro Soetoro PROPN SUBST Xxxxx False\n",
            "z z ADP PREP x True\n",
            "    SPACE _SP   False\n",
            "Indonezji Indonezja PROPN SUBST Xxxxx False\n",
            ", , PUNCT INTERP , False\n",
            "po po ADP PREP xx True\n",
            "czym co PRON SUBST xxxx False\n",
            "w w ADP PREP x True\n",
            "1967 1967 ADJ ADJ dddd False\n",
            "wraz wraz ADV ADV xxxx False\n",
            "z z ADP PREP x True\n",
            "rodziną rodzina NOUN SUBST xxxx False\n",
            "przeprowadziła przeprowadzić VERB PRAET xxxx False\n",
            "się się PRON QUB xxx True\n",
            "do do ADP PREP xx True\n",
            "    SPACE _SP   False\n",
            "Dżakarty[14 Dżakarty[14 PROPN SUBST Xxxxx[dd False\n",
            "] ] PUNCT SUBST ] False\n",
            ". . PUNCT INTERP . False\n",
            "Para para NOUN SUBST Xxxx False\n",
            "miała mieć VERB PRAET xxxx False\n",
            "jedną jeden ADJ ADJ xxxx False\n",
            "córkę córka NOUN SUBST xxxx False\n"
          ]
        }
      ]
    },
    {
      "cell_type": "code",
      "source": [
        "for ent in doc.ents:\n",
        "  print(ent.text, ent.label_)"
      ],
      "metadata": {
        "colab": {
          "base_uri": "https://localhost:8080/"
        },
        "id": "djRKI49JI5mE",
        "outputId": "7d24421c-3629-4f76-f4cf-b253f1ff5bca"
      },
      "execution_count": 51,
      "outputs": [
        {
          "output_type": "stream",
          "name": "stdout",
          "text": [
            "4 sierpnia 1961 date\n",
            "Medical Center for Women & Children orgName\n",
            "Honolulu placeName\n",
            "Barack Obama Sr. persName\n",
            "afrykańskiego placeName\n",
            "kenijskiej placeName\n",
            "Nyanza persName\n",
            "Ann Dunham persName\n",
            "angielskie placeName\n",
            "niemieckich placeName\n",
            "szwajcarskich placeName\n",
            "szkockich placeName\n",
            "walijskich placeName\n",
            "irlandzkich placeName\n",
            "1960 date\n",
            "Barack persName\n",
            "2 lutego 1961 date\n",
            "1964 date\n",
            "Kenii placeName\n",
            "1982 date\n",
            "Obamy persName\n",
            "1966 date\n",
            "Lolo Soetoro persName\n",
            "Indonezji placeName\n",
            "1967 date\n"
          ]
        }
      ]
    },
    {
      "cell_type": "code",
      "source": [
        "for ent in doc.ents:\n",
        "    print(f\"Entity: {ent.text}, Label: {ent.label_}\")\n",
        "    if ent.label_ == \"persName\":\n",
        "        perName_count += 1\n",
        "    elif ent.label_ == \"placeName\":\n",
        "        placeName_count += 1\n",
        "    elif ent.label_ == \"PER\":\n",
        "        perName_count += 1\n",
        "    elif ent.label_ == \"LOC\":\n",
        "        placeName_count += 1\n",
        "\n",
        "# Rezultat\n",
        "print(\"\\nResults:\")\n",
        "print(f\"Number of person names (perName): {perName_count}\")\n",
        "print(f\"Number of place names (placeName): {placeName_count}\")"
      ],
      "metadata": {
        "colab": {
          "base_uri": "https://localhost:8080/"
        },
        "id": "kefl2awyQZcn",
        "outputId": "5a7a08d6-1275-4c77-920d-fc0bbe534e25"
      },
      "execution_count": 61,
      "outputs": [
        {
          "output_type": "stream",
          "name": "stdout",
          "text": [
            "Entity: 4 sierpnia 1961, Label: date\n",
            "Entity: Medical Center for Women & Children, Label: orgName\n",
            "Entity: Honolulu, Label: placeName\n",
            "Entity: Barack Obama Sr., Label: persName\n",
            "Entity: afrykańskiego, Label: placeName\n",
            "Entity: kenijskiej, Label: placeName\n",
            "Entity: Nyanza, Label: persName\n",
            "Entity: Ann Dunham, Label: persName\n",
            "Entity: angielskie, Label: placeName\n",
            "Entity: niemieckich, Label: placeName\n",
            "Entity: szwajcarskich, Label: placeName\n",
            "Entity: szkockich, Label: placeName\n",
            "Entity: walijskich, Label: placeName\n",
            "Entity: irlandzkich, Label: placeName\n",
            "Entity: 1960, Label: date\n",
            "Entity: Barack, Label: persName\n",
            "Entity: 2 lutego 1961, Label: date\n",
            "Entity: 1964, Label: date\n",
            "Entity: Kenii, Label: placeName\n",
            "Entity: 1982, Label: date\n",
            "Entity: Obamy, Label: persName\n",
            "Entity: 1966, Label: date\n",
            "Entity: Lolo Soetoro, Label: persName\n",
            "Entity: Indonezji, Label: placeName\n",
            "Entity: 1967, Label: date\n",
            "\n",
            "Results:\n",
            "Number of person names (perName): 12\n",
            "Number of place names (placeName): 22\n"
          ]
        }
      ]
    }
  ]
}